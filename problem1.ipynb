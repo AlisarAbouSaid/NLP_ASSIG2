{
 "cells": [
  {
   "cell_type": "code",
   "execution_count": null,
   "metadata": {},
   "outputs": [],
   "source": [
    "\n",
    "# Initialize an empty dictionary to store word to index mapping\n",
    "word_index_dict = {}\n",
    "\n",
    "# Read the brown_vocab_100.txt and populate the word_index_dict with word and its index\n",
    "vocab_file_path = '/Users/vaji/Documents/01 VU-Uni/P5/NLP/Assign2/A2_2024-2/brown_vocab_100.txt'\n",
    "with open(vocab_file_path, 'r', encoding='utf-8') as file:\n",
    "    for index, line in enumerate(file):\n",
    "        word = line.strip()  # Remove any trailing whitespace or newline characters\n",
    "        word_index_dict[word] = index  # Map the word to its line number (index)\n",
    "\n",
    "# Write the word_index_dict to a file named word_to_index_100.txt\n",
    "output_file_path = '/Users/vaji/Documents/01 VU-Uni/P5/NLP/Assign2/A2_2024-2/word_to_index_100.txt'\n",
    "with open(output_file_path, 'w', encoding='utf-8') as file:\n",
    "    for word, index in word_index_dict.items():\n",
    "        file.write(f\"{word}: {index}\\n\")  # Format each entry as 'word: index'\n",
    "\n",
    "with open(output_file_path, 'r', encoding='utf-8') as file:\n",
    "    for i in range(10):\n",
    "        print(file.readline().strip())\n",
    "        \n",
    "# Print the index of 'all', the index of 'resolution', and the total number of words\n",
    "\n",
    "print(word_index_dict['all'])\n",
    "print(word_index_dict['resolution'])\n",
    "print(len(word_index_dict))"
   ]
  }
 ],
 "metadata": {
  "language_info": {
   "name": "python"
  }
 },
 "nbformat": 4,
 "nbformat_minor": 2
}
