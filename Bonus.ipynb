{
 "cells": [
  {
   "cell_type": "code",
   "execution_count": null,
   "metadata": {},
   "outputs": [],
   "source": [
    "import math\n",
    "import nltk\n",
    "from nltk.probability import FreqDist\n",
    "from nltk import bigrams\n",
    "from nltk.corpus import brown\n",
    "\n",
    "# Ensure the Brown corpus is downloaded\n",
    "nltk.download('brown')\n",
    "\n",
    "# Calculate frequency distribution for individual words\n",
    "word_freqs = FreqDist(brown.words())\n",
    "\n",
    "# Calculate frequency distribution for bigrams (successive word pairs)\n",
    "bigram_freqs = FreqDist(bigrams(brown.words()))\n",
    "\n",
    "# Size of the corpus\n",
    "N = len(brown.words())\n",
    "\n",
    "# Function to calculate PMI\n",
    "def pmi(w1, w2, word_freqs, bigram_freqs, N):\n",
    "    prob_w1 = word_freqs[w1] / N\n",
    "    prob_w2 = word_freqs[w2] / N\n",
    "    prob_w1w2 = bigram_freqs[(w1, w2)] / N\n",
    "    return math.log2(prob_w1w2 / (prob_w1 * prob_w2))\n",
    "\n",
    "# Calculate PMI for all bigrams and store in a dictionary\n",
    "pmi_values = {}\n",
    "for (w1, w2) in bigrams(brown.words()):\n",
    "    # Check if both words occur at least 10 times individually\n",
    "    if word_freqs[w1] >= 10 and word_freqs[w2] >= 10:\n",
    "        pmi_values[(w1, w2)] = pmi(w1, w2, word_freqs, bigram_freqs, N)\n",
    "\n",
    "# Sort the PMI values\n",
    "sorted_pmi = sorted(pmi_values.items(), key=lambda item: item[1])\n",
    "\n",
    "# Get the 20 word pairs with the lowest and highest PMI values\n",
    "lowest_pmi = sorted_pmi[:20]\n",
    "highest_pmi = sorted_pmi[-20:]\n",
    "\n",
    "# Print the results\n",
    "print(\"20 word pairs with the lowest PMI values:\")\n",
    "for pair, value in lowest_pmi:\n",
    "    print(f\"{pair}: {value}\")\n",
    "\n",
    "print(\"\\n20 word pairs with the highest PMI values:\")\n",
    "for pair, value in highest_pmi:\n",
    "    print(f\"{pair}: {value}\")"
   ]
  }
 ],
 "metadata": {
  "language_info": {
   "name": "python"
  }
 },
 "nbformat": 4,
 "nbformat_minor": 2
}
